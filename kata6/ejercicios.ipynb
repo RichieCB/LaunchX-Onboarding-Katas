{
 "cells": [
  {
   "cell_type": "markdown",
   "metadata": {},
   "source": [
    "# Ejercicio 1"
   ]
  },
  {
   "cell_type": "code",
   "execution_count": 5,
   "metadata": {},
   "outputs": [
    {
     "name": "stdout",
     "output_type": "stream",
     "text": [
      "['Mercurio', 'Venus', 'Tierra', 'Marte', 'Jupiter', 'Saturno', 'Urano', 'Neptuno']\n",
      "Total de planetas: 9\n",
      "El ultimo planeta del sistema solar es: Plutón\n"
     ]
    }
   ],
   "source": [
    "planetas = ['Mercurio', 'Venus', 'Tierra', 'Marte', 'Jupiter', 'Saturno', 'Urano', 'Neptuno']\n",
    "print(planetas)\n",
    "\n",
    "planetas.append('Plutón')\n",
    "print(\"Total de planetas: \"+str(len(planetas)))\n",
    "print(\"El ultimo planeta del sistema solar es: \" +planetas[-1])\n",
    "\n"
   ]
  },
  {
   "cell_type": "markdown",
   "metadata": {},
   "source": [
    "# Ejercicio 2"
   ]
  },
  {
   "cell_type": "code",
   "execution_count": 9,
   "metadata": {},
   "outputs": [
    {
     "name": "stdout",
     "output_type": "stream",
     "text": [
      "Planetas mas cercanos al sol: ['Mercury', 'Venus', 'Earth']\n",
      "Planetas mas alejados del sol: ['Jupiter', 'Saturn', 'Neptune']\n"
     ]
    }
   ],
   "source": [
    "# Lista de planetas\n",
    "planets = ['Mercury', 'Venus', 'Earth', 'Mars', 'Jupiter', 'Saturn', 'Neptune']\n",
    "\n",
    "planeta = input(\"Ingrese un nombre de un planeta, recuerde que la primera es en mayuscula\")\n",
    "\n",
    "busqueda =planets.index(planeta)\n",
    "print(\"Planetas mas cercanos al sol: \" + str(planets[0:busqueda]))\n",
    "print(\"Planetas mas alejados del sol: \" + str(planets[busqueda+1:]))"
   ]
  }
 ],
 "metadata": {
  "interpreter": {
   "hash": "e4a09fdccd4d320ec788c22180ff8f64f1604cebb753e75b4f60ec6dbf27183b"
  },
  "kernelspec": {
   "display_name": "Python 3.8.5 64-bit",
   "language": "python",
   "name": "python3"
  },
  "language_info": {
   "codemirror_mode": {
    "name": "ipython",
    "version": 3
   },
   "file_extension": ".py",
   "mimetype": "text/x-python",
   "name": "python",
   "nbconvert_exporter": "python",
   "pygments_lexer": "ipython3",
   "version": "3.8.5"
  },
  "orig_nbformat": 4
 },
 "nbformat": 4,
 "nbformat_minor": 2
}
