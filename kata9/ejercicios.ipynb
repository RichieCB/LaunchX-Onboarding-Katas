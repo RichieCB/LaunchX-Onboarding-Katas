{
 "cells": [
  {
   "cell_type": "markdown",
   "metadata": {},
   "source": [
    "# Ejercicio 1"
   ]
  },
  {
   "cell_type": "code",
   "execution_count": null,
   "metadata": {},
   "outputs": [],
   "source": [
    "def genera_reporte (tanque1, tanque2, tanque3):\n",
    "    promedio = calcula_promedio(tanque1, tanque2 , tanque3)\n",
    "    reporte = f\"\"\"Reporte de Combustible\n",
    "    Tanque 1: {tanque1}\n",
    "    Tanque 2: {tanque2}\n",
    "    Tanque 3: {tanque3}\n",
    "    Promedio: {promedio}\"\"\"\n",
    "    return reporte\n",
    "\n",
    "def calcula_promedio (*valores):\n",
    "    total = sum(valores)\n",
    "    return total/len(valores)\n",
    "\n",
    "\n",
    "print(genera_reporte(90,70,85))\n",
    "\n"
   ]
  },
  {
   "cell_type": "markdown",
   "metadata": {},
   "source": [
    "# Ejercicio 2"
   ]
  },
  {
   "cell_type": "code",
   "execution_count": 13,
   "metadata": {},
   "outputs": [
    {
     "name": "stdout",
     "output_type": "stream",
     "text": [
      "Reporte de la Mision: \n",
      "    Destino: Moon\n",
      "    Tiempo de prelanzamiento: 14\n",
      "    Tiempo de vuelo: 51\n",
      "    Tiempo total de la mision: 65\n",
      "    Tanque externo: 200000\n",
      "    Tanque interno: 3000000\n",
      "Reporte de la Mision: \n",
      "            Destino: Moon\n",
      "    Tiempo total de la mision: 74\n",
      "    Total reservas: 500000 \n",
      "main : 300000 \n",
      "external : 200000 \n",
      "\n"
     ]
    }
   ],
   "source": [
    "def genera_reporteMision (prelanzamiento, tiempo_vuelo, destino, tanque_externo, tanque_interno):\n",
    "    reporte = f\"\"\"Reporte de la Mision: \n",
    "    Destino: {destino}\n",
    "    Tiempo de prelanzamiento: {prelanzamiento}\n",
    "    Tiempo de vuelo: {tiempo_vuelo}\n",
    "    Tiempo total de la mision: {prelanzamiento + tiempo_vuelo}\n",
    "    Tanque externo: {tanque_externo}\n",
    "    Tanque interno: {tanque_interno}\"\"\"\n",
    "    return reporte\n",
    "\n",
    "print(genera_reporteMision(14, 51, \"Moon\", 200000, 3000000))\n",
    "\n",
    "\n",
    "# Funcion actulizada\n",
    "\n",
    "def genera_reporte_mision (destino, *minutes, **fuel_reservoirs):\n",
    "    reporte = f\"\"\"Reporte de la Mision: \n",
    "    Destino: {destino}\n",
    "    Tiempo total de la mision: {sum(minutes)}\n",
    "    Total reservas: {sum(fuel_reservoirs.values())} \\n\"\"\"\n",
    "\n",
    "    for tanque, reserva in fuel_reservoirs.items():\n",
    "        reporte += f\"\"\"{tanque} : {reserva} \\n\"\"\"\n",
    "    \n",
    "    return reporte\n",
    "\n",
    "print(genera_reporte_mision(\"Moon\", 8, 11, 55, main=300000, external=200000))\n"
   ]
  }
 ],
 "metadata": {
  "interpreter": {
   "hash": "e4a09fdccd4d320ec788c22180ff8f64f1604cebb753e75b4f60ec6dbf27183b"
  },
  "kernelspec": {
   "display_name": "Python 3.8.5 64-bit",
   "language": "python",
   "name": "python3"
  },
  "language_info": {
   "codemirror_mode": {
    "name": "ipython",
    "version": 3
   },
   "file_extension": ".py",
   "mimetype": "text/x-python",
   "name": "python",
   "nbconvert_exporter": "python",
   "pygments_lexer": "ipython3",
   "version": "3.8.5"
  },
  "orig_nbformat": 4
 },
 "nbformat": 4,
 "nbformat_minor": 2
}
