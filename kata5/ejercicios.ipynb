{
 "cells": [
  {
   "cell_type": "markdown",
   "metadata": {},
   "source": [
    "# Ejercicio 1"
   ]
  },
  {
   "cell_type": "code",
   "execution_count": 2,
   "metadata": {},
   "outputs": [
    {
     "name": "stdout",
     "output_type": "stream",
     "text": [
      "628949330\n",
      "390577533.93\n"
     ]
    }
   ],
   "source": [
    "d_Tierra = 149597870 #km\n",
    "d_Jupiter = 778547200 #km\n",
    "distancia = d_Tierra - d_Jupiter\n",
    "distancia_millas = distancia* 0.621\n",
    "print(abs(distancia))\n",
    "print(abs(distancia_millas))"
   ]
  },
  {
   "cell_type": "markdown",
   "metadata": {},
   "source": [
    "# Ejercicio 2"
   ]
  },
  {
   "cell_type": "code",
   "execution_count": 3,
   "metadata": {},
   "outputs": [],
   "source": [
    "distancia_planeta1 = int(input(\"Ingresa la distancia del primer planeta\"))\n",
    "distancia_planeta2 = int(input(\"Ingresa la distancia del segundo planeta\"))\n",
    "\n",
    "distancia = abs(distancia_planeta1 - distancia_planeta2)\n",
    "distancia_millas = distancia * 0.621\n",
    "\n",
    "print(distancia + \"km\")\n",
    "print(distancia_millas + \"millas\")"
   ]
  }
 ],
 "metadata": {
  "interpreter": {
   "hash": "e4a09fdccd4d320ec788c22180ff8f64f1604cebb753e75b4f60ec6dbf27183b"
  },
  "kernelspec": {
   "display_name": "Python 3.8.5 64-bit",
   "language": "python",
   "name": "python3"
  },
  "language_info": {
   "codemirror_mode": {
    "name": "ipython",
    "version": 3
   },
   "file_extension": ".py",
   "mimetype": "text/x-python",
   "name": "python",
   "nbconvert_exporter": "python",
   "pygments_lexer": "ipython3",
   "version": "3.8.5"
  },
  "orig_nbformat": 4
 },
 "nbformat": 4,
 "nbformat_minor": 2
}
