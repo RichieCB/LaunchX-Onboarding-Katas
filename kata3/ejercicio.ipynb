{
 "cells": [
  {
   "cell_type": "markdown",
   "metadata": {},
   "source": [
    "# Ejercicios if, else, elif"
   ]
  },
  {
   "cell_type": "code",
   "execution_count": 1,
   "metadata": {},
   "outputs": [
    {
     "name": "stdout",
     "output_type": "stream",
     "text": [
      "Cuidado!!, Se acerca un asteroide a: 49 km/s \n",
      "\n",
      "No hay nada que ver en el cierlo :( \n",
      "\n"
     ]
    }
   ],
   "source": [
    "velocidad1 = 49\n",
    "if velocidad1 > 25:\n",
    "    print(\"Cuidado!!, Se acerca un asteroide a: \" +str(velocidad1) + \" km/s \\n\")\n",
    "else:\n",
    "    print(\"Ninguna advertencia de asteroide\")\n",
    "\n",
    "\n",
    "velocidad2 = 19\n",
    "if velocidad2 == 20:\n",
    "    print(\"Terricola!, mira al cielo esta pasando un ateroide \\n\")\n",
    "elif velocidad2 > 20:\n",
    "    print(\"Terricola!, mira al cielo esta pasando un asteroide \\n\")\n",
    "else:\n",
    "    print(\"No hay nada que ver en el cielo :( \\n\")"
   ]
  },
  {
   "cell_type": "markdown",
   "metadata": {},
   "source": [
    "# Ejercicio Uso de and y or"
   ]
  },
  {
   "cell_type": "code",
   "execution_count": 3,
   "metadata": {},
   "outputs": [
    {
     "name": "stdout",
     "output_type": "stream",
     "text": [
      "Terricola!, mira al cielo esta pasando un ateroide \n",
      "\n"
     ]
    }
   ],
   "source": [
    "velocidad = 25\n",
    "tamaño_asteroide = 30\n",
    "if velocidad > 25 and tamaño_asteroide > 20:\n",
    "    print(\"Cuidado!!, Se acerca un asteroide a: \" +str(velocidad1) + \" km/s  y  tamaño \" + str(tamaño_asteroide) +\"\\n\")\n",
    "elif velocidad > 20:\n",
    "    print(\"Terricola!, mira al cielo esta pasando un asteroide \\n\")\n",
    "else:\n",
    "    print(\"No hay nada que ver en el cielo :( \\n\")"
   ]
  }
 ],
 "metadata": {
  "interpreter": {
   "hash": "e4a09fdccd4d320ec788c22180ff8f64f1604cebb753e75b4f60ec6dbf27183b"
  },
  "kernelspec": {
   "display_name": "Python 3.8.5 64-bit",
   "language": "python",
   "name": "python3"
  },
  "language_info": {
   "codemirror_mode": {
    "name": "ipython",
    "version": 3
   },
   "file_extension": ".py",
   "mimetype": "text/x-python",
   "name": "python",
   "nbconvert_exporter": "python",
   "pygments_lexer": "ipython3",
   "version": "3.8.5"
  },
  "orig_nbformat": 4
 },
 "nbformat": 4,
 "nbformat_minor": 2
}
